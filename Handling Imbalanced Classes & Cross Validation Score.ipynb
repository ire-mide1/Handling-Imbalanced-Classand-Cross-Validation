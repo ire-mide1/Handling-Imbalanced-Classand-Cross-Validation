{
 "cells": [
  {
   "cell_type": "code",
   "execution_count": 1,
   "metadata": {},
   "outputs": [
    {
     "name": "stderr",
     "output_type": "stream",
     "text": [
      "Using TensorFlow backend.\n"
     ]
    }
   ],
   "source": [
    "import matplotlib.pyplot as plt\n",
    "import numpy as np\n",
    "from collections import Counter\n",
    "from imblearn.over_sampling import SMOTE\n",
    "from sklearn.datasets import make_classification"
   ]
  },
  {
   "cell_type": "markdown",
   "metadata": {},
   "source": [
    "SMOTE,R.U.S is done on numpyarray features"
   ]
  },
  {
   "cell_type": "code",
   "execution_count": 2,
   "metadata": {},
   "outputs": [],
   "source": [
    "# This is straightforward..play around with it printing X to see how the data changes with change in the parameters values.\n",
    "data = make_classification(n_samples=10000, n_redundant=0, n_repeated=0, n_features=2, \n",
    "                       n_clusters_per_class=1, flip_y=0, weights =[0.99], random_state=1)"
   ]
  },
  {
   "cell_type": "code",
   "execution_count": 3,
   "metadata": {},
   "outputs": [],
   "source": [
    "#can easily split into X, y since it is a numpy array instead of using slice\n",
    "X, y = data"
   ]
  },
  {
   "cell_type": "code",
   "execution_count": 4,
   "metadata": {},
   "outputs": [
    {
     "data": {
      "text/plain": [
       "(array([[0.22201371, 0.54020654],\n",
       "        [1.34743875, 1.41282352],\n",
       "        [0.53723817, 0.37273043],\n",
       "        ...,\n",
       "        [1.87813003, 0.82950037],\n",
       "        [2.58593336, 1.92799501],\n",
       "        [1.1233558 , 1.04575545]]), array([0, 0, 0, ..., 0, 0, 0]))"
      ]
     },
     "execution_count": 4,
     "metadata": {},
     "output_type": "execute_result"
    }
   ],
   "source": [
    "X,y"
   ]
  },
  {
   "cell_type": "code",
   "execution_count": 5,
   "metadata": {},
   "outputs": [
    {
     "data": {
      "text/plain": [
       "(10000,)"
      ]
     },
     "execution_count": 5,
     "metadata": {},
     "output_type": "execute_result"
    }
   ],
   "source": [
    "y.shape"
   ]
  },
  {
   "cell_type": "code",
   "execution_count": 6,
   "metadata": {},
   "outputs": [
    {
     "data": {
      "text/plain": [
       "array([0, 0, 0, ..., 0, 0, 0])"
      ]
     },
     "execution_count": 6,
     "metadata": {},
     "output_type": "execute_result"
    }
   ],
   "source": [
    "y"
   ]
  },
  {
   "cell_type": "code",
   "execution_count": 7,
   "metadata": {},
   "outputs": [
    {
     "data": {
      "text/plain": [
       "(10000, 2)"
      ]
     },
     "execution_count": 7,
     "metadata": {},
     "output_type": "execute_result"
    }
   ],
   "source": [
    "X.shape"
   ]
  },
  {
   "cell_type": "code",
   "execution_count": 8,
   "metadata": {},
   "outputs": [
    {
     "data": {
      "text/plain": [
       "array([[0.22201371, 0.54020654],\n",
       "       [1.34743875, 1.41282352],\n",
       "       [0.53723817, 0.37273043],\n",
       "       ...,\n",
       "       [1.87813003, 0.82950037],\n",
       "       [2.58593336, 1.92799501],\n",
       "       [1.1233558 , 1.04575545]])"
      ]
     },
     "execution_count": 8,
     "metadata": {},
     "output_type": "execute_result"
    }
   ],
   "source": [
    "X"
   ]
  },
  {
   "cell_type": "code",
   "execution_count": 9,
   "metadata": {},
   "outputs": [
    {
     "name": "stdout",
     "output_type": "stream",
     "text": [
      "Counter({0: 9900, 1: 100})\n"
     ]
    }
   ],
   "source": [
    "# A collection function, it returns a dictionary-like object \n",
    "#it counts key values pair in an object and returns a dictionary\n",
    "#cannot use value_counts to check unique values here because it is a numpyarray\n",
    "counter = Counter(y)\n",
    "print(counter)"
   ]
  },
  {
   "cell_type": "markdown",
   "metadata": {},
   "source": [
    "The next few cells would help us understand our data and how to make the scatter"
   ]
  },
  {
   "cell_type": "code",
   "execution_count": 10,
   "metadata": {},
   "outputs": [
    {
     "name": "stdout",
     "output_type": "stream",
     "text": [
      "The indexes where the label is zero:[   0    1    2 ... 9997 9998 9999] \n",
      "\n",
      " and the length is: 9900\n"
     ]
    }
   ],
   "source": [
    "row_ix = np.where(y==0)[0]\n",
    "print(f'The indexes where the label is zero:{row_ix} \\n\\n and the length is: {len(row_ix)}')\n",
    "    "
   ]
  },
  {
   "cell_type": "code",
   "execution_count": 11,
   "metadata": {},
   "outputs": [
    {
     "name": "stdout",
     "output_type": "stream",
     "text": [
      "The indexes where the label is one=:\n",
      "\n",
      "[ 207  649  843 1017 1098 1155 1306 1308 1325 1374 1561 1583 1632 1720\n",
      " 1811 1813 1890 1962 1963 2034 2061 2093 2115 2138 2312 2362 2475 2703\n",
      " 2713 2961 3060 3170 3196 3309 3407 3562 3598 3600 3708 3812 3911 4047\n",
      " 4122 4130 4189 4571 4587 4650 5017 5116 5244 5297 5357 5444 5451 5612\n",
      " 5783 5912 5917 5988 6021 6111 6120 6253 6387 6502 6591 6695 6829 7011\n",
      " 7168 7251 7329 7336 7356 7360 7392 7468 7584 7668 7984 8168 8322 8378\n",
      " 8405 8429 8499 8554 8668 8720 8859 9005 9048 9092 9093 9160 9498 9613\n",
      " 9803 9909] \n",
      "\n",
      "\n",
      "and the length is: 100\n"
     ]
    }
   ],
   "source": [
    "row_ix = np.where(y==1)[0]\n",
    "print(f'The indexes where the label is one=:\\n\\n{row_ix} \\n\\n\\nand the length is: {len(row_ix)}')"
   ]
  },
  {
   "cell_type": "code",
   "execution_count": 12,
   "metadata": {},
   "outputs": [
    {
     "data": {
      "text/plain": [
       "<matplotlib.legend.Legend at 0x25552ec0088>"
      ]
     },
     "execution_count": 12,
     "metadata": {},
     "output_type": "execute_result"
    },
    {
     "data": {
      "image/png": "[encoded data removed]",
      "text/plain": [
       "<Figure size 432x288 with 1 Axes>"
      ]
     },
     "metadata": {
      "needs_background": "light"
     },
     "output_type": "display_data"
    }
   ],
   "source": [
    "#the scatter plot of where y=0 \n",
    "#X[row_ix, 0] is the first index where y=0 \n",
    "#is plot against\n",
    "#X[row_ix, 1] is the second index/feature/column where y=0\n",
    "row_ix = np.where(y==0)[0]\n",
    "plt.scatter(X[row_ix, 0], X[row_ix, 1], label=0)\n",
    "plt.legend()"
   ]
  },
  {
   "cell_type": "code",
   "execution_count": 13,
   "metadata": {},
   "outputs": [
    {
     "data": {
      "text/plain": [
       "<matplotlib.legend.Legend at 0x25552eed948>"
      ]
     },
     "execution_count": 13,
     "metadata": {},
     "output_type": "execute_result"
    },
    {
     "data": {
      "image/png": "[encoded data removed]",
      "text/plain": [
       "<Figure size 432x288 with 1 Axes>"
      ]
     },
     "metadata": {
      "needs_background": "light"
     },
     "output_type": "display_data"
    }
   ],
   "source": [
    "#the scatter plot of where y=1\n",
    "\n",
    "row_ix = np.where(y==1)[0] \n",
    "plt.scatter(X[row_ix, 0], X[row_ix, 1], label=1, color ='red')\n",
    "plt.legend()"
   ]
  },
  {
   "cell_type": "code",
   "execution_count": 14,
   "metadata": {},
   "outputs": [
    {
     "data": {
      "text/plain": [
       "<matplotlib.legend.Legend at 0x25553025288>"
      ]
     },
     "execution_count": 14,
     "metadata": {},
     "output_type": "execute_result"
    },
    {
     "data": {
      "image/png": "[encoded data removed]",
      "text/plain": [
       "<Figure size 432x288 with 1 Axes>"
      ]
     },
     "metadata": {
      "needs_background": "light"
     },
     "output_type": "display_data"
    }
   ],
   "source": [
    "#the two plots now\n",
    "\n",
    "for label, _ in counter.most_common():\n",
    "        row_ix = np.where(y==label)[0] \n",
    "        plt.scatter(X[row_ix, 0], X[row_ix, 1], label=str(label))\n",
    "plt.legend()"
   ]
  },
  {
   "cell_type": "markdown",
   "metadata": {},
   "source": [
    "NOW LET'S BALANCE OUR MODEL"
   ]
  },
  {
   "cell_type": "code",
   "execution_count": 15,
   "metadata": {},
   "outputs": [],
   "source": [
    "#1. SMOTE\n",
    "from imblearn.over_sampling import SMOTE\n",
    "smotee =SMOTE()\n",
    "X, y= smotee.fit_sample(X,y)  #fit sample beacuse we're oversampling, hence the total length of the dataset doesnt change\n"
   ]
  },
  {
   "cell_type": "code",
   "execution_count": 16,
   "metadata": {},
   "outputs": [
    {
     "name": "stdout",
     "output_type": "stream",
     "text": [
      "Counter({0: 9900, 1: 9900})\n"
     ]
    }
   ],
   "source": [
    "counter1 = Counter(y)\n",
    "print(counter1)  #done"
   ]
  },
  {
   "cell_type": "code",
   "execution_count": 17,
   "metadata": {},
   "outputs": [
    {
     "data": {
      "text/plain": [
       "<matplotlib.legend.Legend at 0x255530852c8>"
      ]
     },
     "execution_count": 17,
     "metadata": {},
     "output_type": "execute_result"
    },
    {
     "data": {
      "image/png": "[encoded data removed]",
      "text/plain": [
       "<Figure size 432x288 with 1 Axes>"
      ]
     },
     "metadata": {
      "needs_background": "light"
     },
     "output_type": "display_data"
    }
   ],
   "source": [
    "#let's visualize\n",
    "#it can be seen that class1 points increased in the colour orange\n",
    "\n",
    "for label, _ in counter1.most_common():\n",
    "    row_ix = np.where(y==label)\n",
    "    plt.scatter(X[row_ix,0], X[row_ix,1], label=str(label))\n",
    "plt.legend()"
   ]
  },
  {
   "cell_type": "code",
   "execution_count": 18,
   "metadata": {},
   "outputs": [
    {
     "name": "stdout",
     "output_type": "stream",
     "text": [
      "Counter({0: 9900, 1: 100})\n",
      "Counter({0: 1980, 1: 990})\n"
     ]
    }
   ],
   "source": [
    "#let's undersample\n",
    "#PIPELINE TAKES IN A SERIES OF ACTIONS YOU WANT TO PERFORM ON YOUR DATA.\n",
    "#NOW WE WANT TO OVERSAMPLE AND UNDERSAMPLE\n",
    "'''\n",
    "sampling strategy is how you want to resample your data:\n",
    "if float, its like how many percent of the majority class do you want to build the minority class to,\n",
    "if string, there are only (minority, majority, not minority, not majority/auto and all),\n",
    "and they mean what do you want to sample gan gan\n",
    "'''\n",
    "#undersampling\n",
    "from imblearn.under_sampling import RandomUnderSampler\n",
    "from imblearn.pipeline import Pipeline\n",
    "\n",
    "#define dataset\n",
    "X, y = make_classification(n_samples=10000, n_features=2, n_redundant=0, n_clusters_per_class=1, weights=[0.99], flip_y=0,\n",
    "                           random_state=1)\n",
    "\n",
    "#summarize class distribution\n",
    "counter = Counter(y)\n",
    "print(counter)\n",
    "\n",
    "#define the pipeline steps\n",
    "#SMOTE deals with the minority class, so tweak the hperparamter to increase it because it is the minority btwn the two classes\n",
    "#RandomUnderSampler parameter can also be tweaked in a way that kind of reduces the number of its majority but not neccesarily the same number with the minority\n",
    "over = SMOTE(sampling_strategy=0.1)  #This is to increase the number of the minority class by 0.1% so that when we eventually undersample, our data isnt too small\n",
    "under = RandomUnderSampler(sampling_strategy=0.5) #we want the majority class to be twice the minority class\n",
    "steps = [('over',over), ('under', under)] #the step of the pipeline, https://youtu.be/BiBFQbII7ys for better understanding.. the smote and r.u.s equated to steps\n",
    "pipe = Pipeline(steps = steps) #instantiate with smote and r.u.s parameters evaluated in steps\n",
    "\n",
    "#now, fit the data on the pipeline like you'd for SMOTE\n",
    "X, y = pipe.fit_resample(X, y)\n",
    "\n",
    "\n",
    "#let's check the counter for feedback after the pipeline..Counter returns a dict\n",
    "counter = Counter(y)\n",
    "print(counter)\n"
   ]
  },
  {
   "cell_type": "code",
   "execution_count": 19,
   "metadata": {},
   "outputs": [
    {
     "data": {
      "text/plain": [
       "<matplotlib.legend.Legend at 0x2555312b3c8>"
      ]
     },
     "execution_count": 19,
     "metadata": {},
     "output_type": "execute_result"
    },
    {
     "data": {
      "image/png": "[encoded data removed]",
      "text/plain": [
       "<Figure size 432x288 with 1 Axes>"
      ]
     },
     "metadata": {
      "needs_background": "light"
     },
     "output_type": "display_data"
    }
   ],
   "source": [
    "#let's recheck scatter plot\n",
    "for label, _ in counter.items():\n",
    "    row_ix = np.where(y==label)[0] \n",
    "    plt.scatter(X[row_ix, 0], X[row_ix, 1], label=str(label))\n",
    "plt.legend()"
   ]
  },
  {
   "cell_type": "markdown",
   "metadata": {},
   "source": [
    "TYPES OF SMOTE"
   ]
  },
  {
   "cell_type": "code",
   "execution_count": 20,
   "metadata": {},
   "outputs": [
    {
     "name": "stdout",
     "output_type": "stream",
     "text": [
      "Counter({0: 9900, 1: 100})\n",
      "Counter({0: 9900, 1: 9900})\n"
     ]
    },
    {
     "data": {
      "text/plain": [
       "<matplotlib.legend.Legend at 0x25553125808>"
      ]
     },
     "execution_count": 20,
     "metadata": {},
     "output_type": "execute_result"
    },
    {
     "data": {
      "image/png": "[encoded data removed]",
      "text/plain": [
       "<Figure size 432x288 with 1 Axes>"
      ]
     },
     "metadata": {
      "needs_background": "light"
     },
     "output_type": "display_data"
    }
   ],
   "source": [
    "#1. BORDERLINE SMOTE\n",
    "#straightforward....\n",
    "\n",
    "\n",
    "from collections import Counter\n",
    "from sklearn.datasets import make_classification\n",
    "import matplotlib.pyplot as plt\n",
    "from imblearn.over_sampling import BorderlineSMOTE\n",
    "from numpy import where\n",
    "\n",
    "#define dataset\n",
    "X, y = make_classification(n_samples=10000, n_features=2, n_redundant=0, n_clusters_per_class=1, weights=[0.99], flip_y=0,\n",
    "                           random_state=1)\n",
    "\n",
    "#summarize class distribution\n",
    "counter =Counter(y)\n",
    "print(counter)\n",
    "\n",
    "borderline_smote = BorderlineSMOTE()\n",
    "X, y =borderline_smote.fit_sample(X, y)\n",
    "\n",
    "#summarize new class distribution\n",
    "counter =Counter(y)\n",
    "print(counter)\n",
    "\n",
    "#let's visualize\n",
    "for label, _ in counter.most_common():\n",
    "    row_ix = where(y==label)[0]\n",
    "    plt.scatter(X[row_ix, 0], X[row_ix, 1], label = str(label))\n",
    "plt.legend()"
   ]
  },
  {
   "cell_type": "code",
   "execution_count": 21,
   "metadata": {},
   "outputs": [
    {
     "name": "stdout",
     "output_type": "stream",
     "text": [
      "Counter({0: 9900, 1: 100})\n",
      "Counter({0: 9900, 1: 9900})\n"
     ]
    },
    {
     "data": {
      "text/plain": [
       "<matplotlib.legend.Legend at 0x2555319a108>"
      ]
     },
     "execution_count": 21,
     "metadata": {},
     "output_type": "execute_result"
    },
    {
     "data": {
      "image/png": "[encoded data removed]",
      "text/plain": [
       "<Figure size 432x288 with 1 Axes>"
      ]
     },
     "metadata": {
      "needs_background": "light"
     },
     "output_type": "display_data"
    }
   ],
   "source": [
    "#2. BORDERLINE SMOTESVM\n",
    "#same proceedure\n",
    "\n",
    "\n",
    "from collections import Counter\n",
    "from sklearn.datasets import make_classification\n",
    "import matplotlib.pyplot as plt\n",
    "from imblearn.over_sampling import SVMSMOTE\n",
    "from numpy import where\n",
    "\n",
    "#define dataset\n",
    "X, y = make_classification(n_samples=10000, n_features=2, n_redundant=0, n_clusters_per_class=1, weights=[0.99], flip_y=0,\n",
    "                           random_state=1)\n",
    "\n",
    "#summarize class distribution\n",
    "counter =Counter(y)\n",
    "print(counter)\n",
    "\n",
    "borderline_smote = SVMSMOTE()\n",
    "X, y =borderline_smote.fit_sample(X, y)\n",
    "\n",
    "#summarize new class distribution\n",
    "counter =Counter(y)\n",
    "print(counter)\n",
    "\n",
    "#let's visualize\n",
    "for label, _ in counter.most_common():\n",
    "    row_ix = where(y==label)[0]\n",
    "    plt.scatter(X[row_ix, 0], X[row_ix, 1], label = str(label))\n",
    "plt.legend()"
   ]
  },
  {
   "cell_type": "code",
   "execution_count": 22,
   "metadata": {},
   "outputs": [
    {
     "name": "stdout",
     "output_type": "stream",
     "text": [
      "Counter({0: 9900, 1: 100})\n",
      "Counter({0: 9900, 1: 9899})\n"
     ]
    },
    {
     "data": {
      "image/png": "[encoded data removed]",
      "text/plain": [
       "<Figure size 432x288 with 1 Axes>"
      ]
     },
     "metadata": {
      "needs_background": "light"
     },
     "output_type": "display_data"
    }
   ],
   "source": [
    "#ADASYN\n",
    "#same logic\n",
    "\n",
    "from collections import Counter\n",
    "from sklearn.datasets import make_classification\n",
    "from matplotlib import pyplot\n",
    "from imblearn.over_sampling import ADASYN\n",
    "from numpy import where\n",
    "\n",
    "#define dataset\n",
    "X, y = make_classification(n_samples=10000, n_features=2, n_redundant=0, n_clusters_per_class=1, weights=[0.99], flip_y=0,\n",
    "                           random_state=1)\n",
    "#summarize class distribution\n",
    "counter =Counter(y)\n",
    "print(counter)\n",
    "\n",
    "#transform the dataset\n",
    "oversample = ADASYN()\n",
    "X, y = oversample.fit_resample(X, y)\n",
    "\n",
    "#summarize new class distribution\n",
    "counter =Counter(y)\n",
    "print(counter)\n",
    "\n",
    "#scatter plot of examples by class label\n",
    "for label, _ in counter.items():\n",
    "    row_ix = where(y==label)[0]\n",
    "    pyplot.scatter(X[row_ix, 0], X[row_ix, 1], label=str(label))\n",
    "pyplot.legend\n",
    "pyplot.show()"
   ]
  },
  {
   "cell_type": "markdown",
   "metadata": {},
   "source": [
    "For the second class, we used modules like decisiontree, cross_val_score, RepeatedStratifiedKFold.\n",
    "I will try to explain them.A voicenote would be better though.\n",
    "\n",
    "Decisiontree:\n",
    "    just a normal model like linearRegression and logisticRegression\n",
    "\n",
    "RepeatedStratifiedKFold: A cross validation method\n",
    "    -Not exactly easy to explain, it has variances (KFold, RepeatedKFold, StratifedKFold and RepeatedStratifiedKFold)\n",
    "    \n",
    "    -KFold is the most basic, they all take three parameters, n_splits, n_repeats and random_state\n",
    "    - what it does is it splits your data into k number of groups and takes one group as test data and takes the others as\n",
    "      train data, it does this for all the groups..you see thaat that way all datapoints get to be test_data and train data       and it does not use all your data (well depending how you configure it) and   biasness is greatly reduced\n",
    "    \n",
    "\n",
    "cross_val_score:\n",
    "    - It's used evaluate a cross validation method, just as accuracy_score does or MAE, MSE and RMSE\n",
    "    - it's parametes; \n",
    "      Estimator: the model you want in training your data, (you could pass in a pipeline)\n",
    "      X and y: your label and target\n",
    "      Scorer: What method do you want to use to evaluate it. (Use sklearn.metrics.SCORERS.keys() to check the available    scorers) check the scikit-learn documentation for more understanding\n",
    "      -CV: just like sampling_strategy, this is your cross validation strategy or simply how you want your data divided. (that's where we'd use RepeatedStratifiedKFold)\n",
    "     \n",
    "n_job:\n",
    "    - The number of CPUs you want to use, None means use one processor and -1 means use all processors\n",
    "\n",
    "\n"
   ]
  },
  {
   "cell_type": "code",
   "execution_count": 23,
   "metadata": {},
   "outputs": [
    {
     "name": "stdout",
     "output_type": "stream",
     "text": [
      "[0.6979798  0.89646465 0.8469697  0.7459596  0.7989899  0.69747475\n",
      " 0.8479798  0.6989899  0.7469697  0.69747475 0.79545455 0.9479798\n",
      " 0.6989899  0.94646465 0.74747475 0.74747475 0.5979798  0.7979798\n",
      " 0.79747475 0.69646465 0.74949495 0.74747475 0.8969697  0.8989899\n",
      " 0.64545455 0.64949495 0.74747475 0.6479798  0.9479798  0.6979798 ]\n"
     ]
    }
   ],
   "source": [
    "#This is just to view the output of using the evaluation method..bother about the output only\n",
    "from numpy import mean\n",
    "from sklearn.datasets import make_classification\n",
    "from sklearn.model_selection import cross_val_score, RepeatedStratifiedKFold\n",
    "from sklearn.tree import DecisionTreeClassifier\n",
    "#define dataset\n",
    "X, y = make_classification(n_samples=10000, n_features=2, n_redundant=0, n_clusters_per_class=1, weights=[0.99], flip_y=0,\n",
    "                           random_state=1)\n",
    "#define model\n",
    "model = DecisionTreeClassifier()\n",
    "#evaluate pipeline\n",
    "cv = RepeatedStratifiedKFold(n_splits=10, n_repeats=3, random_state=1)\n",
    "scores = cross_val_score(model, X, y, scoring='roc_auc', cv=cv, n_jobs=-1)\n",
    "print(scores)"
   ]
  },
  {
   "cell_type": "code",
   "execution_count": 24,
   "metadata": {},
   "outputs": [
    {
     "name": "stdout",
     "output_type": "stream",
     "text": [
      "Mean ROC AUC: 0.764%\n"
     ]
    }
   ],
   "source": [
    "#DecisionTree evaluated on an imbalanced data wihtout smote\n",
    "\n",
    "from numpy import mean\n",
    "from sklearn.datasets import make_classification\n",
    "from sklearn.model_selection import cross_val_score, RepeatedStratifiedKFold\n",
    "from sklearn.tree import DecisionTreeClassifier\n",
    "#define dataset\n",
    "X, y = make_classification(n_samples=10000, n_features=2, n_redundant=0, n_clusters_per_class=1, weights=[0.99], flip_y=0,\n",
    "                           random_state=1)\n",
    "#define model\n",
    "model = DecisionTreeClassifier()\n",
    "#evaluate pipeline\n",
    "cv = RepeatedStratifiedKFold(n_splits=10, n_repeats=3, random_state=1)\n",
    "scores = cross_val_score(model, X, y, scoring='roc_auc', cv=cv, n_jobs=-1)\n",
    "print(f'Mean ROC AUC: {mean(scores):.3f}%')"
   ]
  },
  {
   "cell_type": "code",
   "execution_count": 25,
   "metadata": {},
   "outputs": [
    {
     "name": "stderr",
     "output_type": "stream",
     "text": [
      "C:\\Users\\Oyelaja Iremide\\Anaconda3\\lib\\site-packages\\joblib\\externals\\loky\\process_executor.py:706: UserWarning: A worker stopped while some jobs were given to the executor. This can be caused by a too short worker timeout or by a memory leak.\n",
      "  \"timeout or by a memory leak.\", UserWarning\n",
      "C:\\Users\\Oyelaja Iremide\\Anaconda3\\lib\\site-packages\\joblib\\externals\\loky\\process_executor.py:706: UserWarning: A worker stopped while some jobs were given to the executor. This can be caused by a too short worker timeout or by a memory leak.\n",
      "  \"timeout or by a memory leak.\", UserWarning\n"
     ]
    },
    {
     "name": "stdout",
     "output_type": "stream",
     "text": [
      "Mean ROC AUC: 0.827%\n"
     ]
    }
   ],
   "source": [
    "#decision tree evaluated on imbalanced dataset with smote oversampling\n",
    "#This is to see that SMOTE increases accuracy\n",
    "\n",
    "from numpy import mean\n",
    "from sklearn.datasets import make_classification\n",
    "from sklearn.model_selection import cross_val_score, RepeatedStratifiedKFold\n",
    "from sklearn.tree import DecisionTreeClassifier\n",
    "from imblearn.pipeline import Pipeline\n",
    "from imblearn.over_sampling import SMOTE\n",
    "\n",
    "#define pipeline\n",
    "steps = [('over', SMOTE()), ('model', DecisionTreeClassifier())]\n",
    "pipeline = Pipeline(steps = steps)\n",
    "\n",
    "#evaluate pipeline\n",
    "cv = RepeatedStratifiedKFold(n_splits=10, n_repeats=3, random_state=1)\n",
    "scores = cross_val_score(pipeline, X, y, scoring='roc_auc', cv=cv, n_jobs=-1)\n",
    "print(f'Mean ROC AUC: {mean(scores):.3f}%')"
   ]
  },
  {
   "cell_type": "code",
   "execution_count": 26,
   "metadata": {},
   "outputs": [
    {
     "name": "stdout",
     "output_type": "stream",
     "text": [
      "Mean ROC AUC: 0.836%\n"
     ]
    }
   ],
   "source": [
    "# DecisionTree evaluated on an imbalanced data with smote oversampling and random undersampling\n",
    "#This has even higher accuracy after using SMOTE & r.u.s\n",
    "\n",
    "from numpy import mean\n",
    "from sklearn.datasets import make_classification\n",
    "from sklearn.model_selection import cross_val_score, RepeatedStratifiedKFold\n",
    "from sklearn.tree import DecisionTreeClassifier\n",
    "from imblearn.pipeline import Pipeline\n",
    "from imblearn.over_sampling import SMOTE\n",
    "from imblearn.under_sampling import RandomUnderSampler\n",
    "\n",
    "#define dataset\n",
    "X, y = make_classification(n_samples=10000, n_features=2, n_redundant=0, n_clusters_per_class=1, weights=[0.99], flip_y=0,\n",
    "                           random_state=1)\n",
    "\n",
    "\n",
    "#define pipeline\n",
    "model = DecisionTreeClassifier()\n",
    "over = SMOTE(sampling_strategy=0.1)\n",
    "under = RandomUnderSampler(sampling_strategy=0.5)\n",
    "steps = [('over', over), ('under', under), ('model',model)]\n",
    "pipeline = Pipeline(steps = steps)\n",
    "\n",
    "\n",
    "#evaluate pipeline\n",
    "cv = RepeatedStratifiedKFold(n_splits=10, n_repeats=3, random_state=1)\n",
    "scores = cross_val_score(pipeline, X, y, scoring='roc_auc', cv=cv, n_jobs=-1)\n",
    "print(f'Mean ROC AUC: {mean(scores):.3f}%')\n"
   ]
  },
  {
   "cell_type": "code",
   "execution_count": 27,
   "metadata": {},
   "outputs": [],
   "source": [
    "#In the next code block,\n",
    "#X has two #numpyarray columns of 10000 values\n",
    "\n",
    "#y has 2 imbalanced classes;0,1\n",
    "#SMOTE increases the minority class by 0.1 and also iterate by k in k_values\n",
    "#R.U.S converts the majority class to twice of the minority\n",
    "#model is the model used\n",
    "#everything goes tru the pipeline\n",
    "#cross validation is done using the pipeline and cv=repeatedstratifiedkfold\n",
    "#mean score is calculated"
   ]
  },
  {
   "cell_type": "code",
   "execution_count": 28,
   "metadata": {},
   "outputs": [
    {
     "name": "stdout",
     "output_type": "stream",
     "text": [
      "[[0.22201371 0.54020654]\n",
      " [1.34743875 1.41282352]\n",
      " [0.53723817 0.37273043]\n",
      " ...\n",
      " [1.87813003 0.82950037]\n",
      " [2.58593336 1.92799501]\n",
      " [1.1233558  1.04575545]]\n",
      "[0 0 0 ... 0 0 0]\n",
      "> k=1, Mean ROC AUC: 0.824\n",
      "> k=2, Mean ROC AUC: 0.824\n",
      "> k=3, Mean ROC AUC: 0.833\n",
      "> k=4, Mean ROC AUC: 0.828\n",
      "> k=5, Mean ROC AUC: 0.848\n",
      "> k=6, Mean ROC AUC: 0.853\n",
      "> k=7, Mean ROC AUC: 0.846\n"
     ]
    }
   ],
   "source": [
    "#playing around the number of folds with DecisionTree evaluated on an imbalanced data with smote oversampling and random undersampling\n",
    "\n",
    "from numpy import mean\n",
    "from sklearn.datasets import make_classification\n",
    "from sklearn.model_selection import cross_val_score, RepeatedStratifiedKFold\n",
    "from sklearn.tree import DecisionTreeClassifier\n",
    "from imblearn.pipeline import Pipeline\n",
    "from imblearn.over_sampling import SMOTE\n",
    "from imblearn.under_sampling import RandomUnderSampler\n",
    "\n",
    "X, y = make_classification(n_samples=10000, n_features=2, n_redundant=0, n_clusters_per_class=1, weights=[0.99], flip_y=0,\n",
    "                           random_state=1)\n",
    "print(X)\n",
    "print(y)\n",
    "\n",
    "#values to evaluate\n",
    "k_values = [1,2,3,4,5,6,7]\n",
    "for k in k_values:\n",
    "    #define pipeline\n",
    "    model = DecisionTreeClassifier()\n",
    "    over = SMOTE(sampling_strategy=0.1, k_neighbors=k)\n",
    "    under = RandomUnderSampler(sampling_strategy=0.5)\n",
    "    steps = [('over', over), ('under', under), ('model',model)]\n",
    "    pipeline = Pipeline(steps = steps)\n",
    "    \n",
    "    #evaluate pipeline\n",
    "    cv = RepeatedStratifiedKFold(n_splits=10, n_repeats=3, random_state=1)\n",
    "    scores = cross_val_score(pipeline, X, y, scoring='roc_auc', cv=cv, n_jobs=-1)\n",
    "    score = mean(scores)\n",
    "    print('> k=%d, Mean ROC AUC: %.3f' % (k, score))\n"
   ]
  },
  {
   "cell_type": "code",
   "execution_count": null,
   "metadata": {},
   "outputs": [],
   "source": []
  }
 ],
 "metadata": {
  "kernelspec": {
   "display_name": "Python 3",
   "language": "python",
   "name": "python3"
  },
  "language_info": {
   "codemirror_mode": {
    "name": "ipython",
    "version": 3
   },
   "file_extension": ".py",
   "mimetype": "text/x-python",
   "name": "python",
   "nbconvert_exporter": "python",
   "pygments_lexer": "ipython3",
   "version": "3.7.4"
  }
 },
 "nbformat": 4,
 "nbformat_minor": 4
}
